{
  "nbformat": 4,
  "nbformat_minor": 0,
  "metadata": {
    "colab": {
      "provenance": [],
      "collapsed_sections": [
        "m0JnvoEi0-yF",
        "yzD_00HP1nOE",
        "yRbAo7wt4E-o",
        "8R5x4NvV52Ru"
      ],
      "authorship_tag": "ABX9TyMXdc8HnFRBQnCjBSzlYyAW",
      "include_colab_link": true
    },
    "kernelspec": {
      "name": "python3",
      "display_name": "Python 3"
    },
    "language_info": {
      "name": "python"
    }
  },
  "cells": [
    {
      "cell_type": "markdown",
      "metadata": {
        "id": "view-in-github",
        "colab_type": "text"
      },
      "source": [
        "<a href=\"https://colab.research.google.com/github/biranchi2018/PythonBasics/blob/main/Python_Basics_2.ipynb\" target=\"_parent\"><img src=\"https://colab.research.google.com/assets/colab-badge.svg\" alt=\"Open In Colab\"/></a>"
      ]
    },
    {
      "cell_type": "markdown",
      "source": [
        "# Topics:\n",
        "\n",
        "1. Print function, Python Code Commenting\n",
        "2. Python Variables\n",
        "3. Python Data Types\n",
        "4. Python Operators\n",
        "5. Python Function\n",
        "6. Python Lambda Function\n",
        "7. Exception Handling\n",
        "8. File I/O"
      ],
      "metadata": {
        "id": "We1Z4SpU6ZNP"
      }
    },
    {
      "cell_type": "markdown",
      "source": [
        "## Print Function"
      ],
      "metadata": {
        "id": "0t1MyfFd6_AW"
      }
    },
    {
      "cell_type": "code",
      "execution_count": null,
      "metadata": {
        "colab": {
          "base_uri": "https://localhost:8080/"
        },
        "id": "nqo3GdNPuQSk",
        "outputId": "e2fe6e04-0508-4cd0-8eec-40ceb56c6d37"
      },
      "outputs": [
        {
          "output_type": "stream",
          "name": "stdout",
          "text": [
            "Hello World !\n"
          ]
        }
      ],
      "source": [
        "print(\"Hello World !\")"
      ]
    },
    {
      "cell_type": "markdown",
      "source": [
        "## Single Line Comment\n"
      ],
      "metadata": {
        "id": "14rC-hd_7EJi"
      }
    },
    {
      "cell_type": "code",
      "source": [
        "# print(\"This is a single line comment\")"
      ],
      "metadata": {
        "id": "hj6JKED-7Jhv"
      },
      "execution_count": null,
      "outputs": []
    },
    {
      "cell_type": "code",
      "source": [],
      "metadata": {
        "id": "I-vaIGjc7Og0"
      },
      "execution_count": null,
      "outputs": []
    },
    {
      "cell_type": "markdown",
      "source": [
        "## Multi Line Comment"
      ],
      "metadata": {
        "id": "iKNXoVxC7PEO"
      }
    },
    {
      "cell_type": "code",
      "source": [
        "'''\n",
        "print(\"First Line\")\n",
        "print(\"Second Line\")\n",
        "print(\"Third Line\")\n",
        "'''"
      ],
      "metadata": {
        "colab": {
          "base_uri": "https://localhost:8080/",
          "height": 35
        },
        "id": "oJ54IbZb7UX8",
        "outputId": "0c57cefc-bfc3-4e2b-c303-12c84aec7634"
      },
      "execution_count": null,
      "outputs": [
        {
          "output_type": "execute_result",
          "data": {
            "text/plain": [
              "'\\nprint(\"First Line\")\\nprint(\"Second Line\")\\nprint(\"Third Line\")\\n'"
            ],
            "application/vnd.google.colaboratory.intrinsic+json": {
              "type": "string"
            }
          },
          "metadata": {},
          "execution_count": 62
        }
      ]
    },
    {
      "cell_type": "markdown",
      "source": [
        "## Python Variables"
      ],
      "metadata": {
        "id": "m0JnvoEi0-yF"
      }
    },
    {
      "cell_type": "markdown",
      "source": [
        "### Valid variables names"
      ],
      "metadata": {
        "id": "NdH3qhP81Rpt"
      }
    },
    {
      "cell_type": "code",
      "source": [
        "myvar = \"Test\"\n",
        "my_var = \"Test\"\n",
        "_my_var = \"Test\"\n",
        "myVar = \"Test\"\n",
        "MYVAR = \"Test\"\n",
        "myvar2 = \"Test\""
      ],
      "metadata": {
        "id": "NMHlx7KPupM5"
      },
      "execution_count": null,
      "outputs": []
    },
    {
      "cell_type": "code",
      "source": [],
      "metadata": {
        "id": "bFMrul0X1a_I"
      },
      "execution_count": null,
      "outputs": []
    },
    {
      "cell_type": "markdown",
      "source": [
        "### Invalid variable names"
      ],
      "metadata": {
        "id": "6ZYhS7b41drj"
      }
    },
    {
      "cell_type": "code",
      "source": [
        "2myvar = \"Test\"\n",
        "my-var = \"Test\"\n",
        "my var = \"Test\""
      ],
      "metadata": {
        "colab": {
          "base_uri": "https://localhost:8080/",
          "height": 131
        },
        "id": "xZhIN4-Q1Egd",
        "outputId": "2d2b4ec6-15bf-4613-e5a7-595d0a785b08"
      },
      "execution_count": null,
      "outputs": [
        {
          "output_type": "error",
          "ename": "SyntaxError",
          "evalue": "ignored",
          "traceback": [
            "\u001b[0;36m  File \u001b[0;32m\"<ipython-input-3-81c8bf48ac63>\"\u001b[0;36m, line \u001b[0;32m2\u001b[0m\n\u001b[0;31m    my-var = \"John\"\u001b[0m\n\u001b[0m    ^\u001b[0m\n\u001b[0;31mSyntaxError\u001b[0m\u001b[0;31m:\u001b[0m cannot assign to expression here. Maybe you meant '==' instead of '='?\n"
          ]
        }
      ]
    },
    {
      "cell_type": "code",
      "source": [],
      "metadata": {
        "id": "iOMBIsCA1E_2"
      },
      "execution_count": null,
      "outputs": []
    },
    {
      "cell_type": "markdown",
      "source": [
        "### Printing variables with f-strings"
      ],
      "metadata": {
        "id": "DbW1aRf8LDYg"
      }
    },
    {
      "cell_type": "code",
      "source": [
        "emp_age = 25\n",
        "emp_name = \"Ravi\"\n",
        "\n",
        "print(f\"Employee name : {emp_name}, Employee age : {emp_age}\")\n"
      ],
      "metadata": {
        "colab": {
          "base_uri": "https://localhost:8080/"
        },
        "id": "EacNZMRRLKEA",
        "outputId": "87e2c771-70d3-4c78-e8fd-45b7bb940bd8"
      },
      "execution_count": null,
      "outputs": [
        {
          "output_type": "stream",
          "name": "stdout",
          "text": [
            "Employee name : Ravi, Employee age : 25\n"
          ]
        }
      ]
    },
    {
      "cell_type": "markdown",
      "source": [
        "## Python Data Types\n",
        "\n",
        "\n",
        "1. Text Type:\tstr\n",
        "2. Numeric Types:\tint, float\n",
        "3. Sequence Types:\tlist, tuple, range\n",
        "4. Mapping Type:\tdict\n",
        "5. Set Types:\tset\n",
        "6. Boolean Type:\tbool\n",
        "7. Binary Types:\tbytes, bytearray\n",
        "8. None Type:\tNoneType\n"
      ],
      "metadata": {
        "id": "yzD_00HP1nOE"
      }
    },
    {
      "cell_type": "code",
      "source": [
        "# 1. Text Type:\tstr\n",
        "\n",
        "var = \"hello\""
      ],
      "metadata": {
        "id": "bIWudiKq1ptd"
      },
      "execution_count": null,
      "outputs": []
    },
    {
      "cell_type": "code",
      "source": [
        "type(var)"
      ],
      "metadata": {
        "colab": {
          "base_uri": "https://localhost:8080/"
        },
        "id": "YXCqFDfB2lct",
        "outputId": "912d0116-73f0-4411-9b58-c97dd63f170f"
      },
      "execution_count": null,
      "outputs": [
        {
          "output_type": "execute_result",
          "data": {
            "text/plain": [
              "str"
            ]
          },
          "metadata": {},
          "execution_count": 17
        }
      ]
    },
    {
      "cell_type": "code",
      "source": [
        "#2. Numeric Types:\tint, float\n",
        "\n",
        "var = 1"
      ],
      "metadata": {
        "id": "LcocT6ra1-zI"
      },
      "execution_count": null,
      "outputs": []
    },
    {
      "cell_type": "code",
      "source": [
        "type(var)"
      ],
      "metadata": {
        "colab": {
          "base_uri": "https://localhost:8080/"
        },
        "id": "G2gXkxmk3Fqc",
        "outputId": "cf30a8e6-e246-4b84-a408-9a1341522fca"
      },
      "execution_count": null,
      "outputs": [
        {
          "output_type": "execute_result",
          "data": {
            "text/plain": [
              "int"
            ]
          },
          "metadata": {},
          "execution_count": 30
        }
      ]
    },
    {
      "cell_type": "code",
      "source": [
        "var = 2.143"
      ],
      "metadata": {
        "id": "kj2r5hw-2CLv"
      },
      "execution_count": null,
      "outputs": []
    },
    {
      "cell_type": "code",
      "source": [
        "type(var)"
      ],
      "metadata": {
        "colab": {
          "base_uri": "https://localhost:8080/"
        },
        "id": "_zBPLBzY3A_e",
        "outputId": "19fd6b37-55a0-472b-a069-777e7aa4a4ef"
      },
      "execution_count": null,
      "outputs": [
        {
          "output_type": "execute_result",
          "data": {
            "text/plain": [
              "float"
            ]
          },
          "metadata": {},
          "execution_count": 33
        }
      ]
    },
    {
      "cell_type": "code",
      "source": [],
      "metadata": {
        "id": "hYGMxBac3JOw"
      },
      "execution_count": null,
      "outputs": []
    },
    {
      "cell_type": "code",
      "source": [
        "#3. Sequence Types:\tlist, tuple, range"
      ],
      "metadata": {
        "id": "yRu_z3LE3BJw"
      },
      "execution_count": null,
      "outputs": []
    },
    {
      "cell_type": "code",
      "source": [
        "var = [1,2,3,4,5]"
      ],
      "metadata": {
        "id": "sS1jW-Dd2DUm"
      },
      "execution_count": null,
      "outputs": []
    },
    {
      "cell_type": "code",
      "source": [
        "type(var)"
      ],
      "metadata": {
        "colab": {
          "base_uri": "https://localhost:8080/"
        },
        "id": "Pif-ahQ83LVH",
        "outputId": "0635a15a-42b4-4944-c8e3-374783494bab"
      },
      "execution_count": null,
      "outputs": [
        {
          "output_type": "execute_result",
          "data": {
            "text/plain": [
              "list"
            ]
          },
          "metadata": {},
          "execution_count": 36
        }
      ]
    },
    {
      "cell_type": "code",
      "source": [
        "var = (1,2,3)"
      ],
      "metadata": {
        "id": "fdaTnCJo2KBu"
      },
      "execution_count": null,
      "outputs": []
    },
    {
      "cell_type": "code",
      "source": [
        "type(var)"
      ],
      "metadata": {
        "colab": {
          "base_uri": "https://localhost:8080/"
        },
        "id": "5fg8vhf43Kt_",
        "outputId": "399d6dda-7894-47fb-aef2-31481aab9377"
      },
      "execution_count": null,
      "outputs": [
        {
          "output_type": "execute_result",
          "data": {
            "text/plain": [
              "tuple"
            ]
          },
          "metadata": {},
          "execution_count": 38
        }
      ]
    },
    {
      "cell_type": "code",
      "source": [],
      "metadata": {
        "id": "jE0OpLha3KxX"
      },
      "execution_count": null,
      "outputs": []
    },
    {
      "cell_type": "code",
      "source": [
        "#4. Mapping Type:\tdict"
      ],
      "metadata": {
        "id": "GKjd6MbK3QDb"
      },
      "execution_count": null,
      "outputs": []
    },
    {
      "cell_type": "code",
      "source": [
        "var = {'a': 1, 'b' : 2}"
      ],
      "metadata": {
        "id": "3c0Xp-A32M0-"
      },
      "execution_count": null,
      "outputs": []
    },
    {
      "cell_type": "code",
      "source": [
        "var"
      ],
      "metadata": {
        "id": "_3qsu1jH3Xer"
      },
      "execution_count": null,
      "outputs": []
    },
    {
      "cell_type": "code",
      "source": [
        "type(var)"
      ],
      "metadata": {
        "id": "eqpvnL4D3U7u"
      },
      "execution_count": null,
      "outputs": []
    },
    {
      "cell_type": "code",
      "source": [],
      "metadata": {
        "id": "CajwRR8J3U-2"
      },
      "execution_count": null,
      "outputs": []
    },
    {
      "cell_type": "code",
      "source": [
        "# 5. Set Types:\tset"
      ],
      "metadata": {
        "id": "Og8NBWXS33a6"
      },
      "execution_count": null,
      "outputs": []
    },
    {
      "cell_type": "code",
      "source": [
        "var = {'a', 'b', 1, 2}"
      ],
      "metadata": {
        "id": "ySa2_8bH2bAS"
      },
      "execution_count": null,
      "outputs": []
    },
    {
      "cell_type": "code",
      "source": [
        "var"
      ],
      "metadata": {
        "id": "WgSmDBBw2fkC"
      },
      "execution_count": null,
      "outputs": []
    },
    {
      "cell_type": "code",
      "source": [
        "type(var)"
      ],
      "metadata": {
        "colab": {
          "base_uri": "https://localhost:8080/"
        },
        "id": "2TbPtHBr3fhB",
        "outputId": "6a7aa0b0-2e64-4fcc-8d4b-9b04b92b9270"
      },
      "execution_count": null,
      "outputs": [
        {
          "output_type": "execute_result",
          "data": {
            "text/plain": [
              "set"
            ]
          },
          "metadata": {},
          "execution_count": 42
        }
      ]
    },
    {
      "cell_type": "code",
      "source": [
        "var = {'a', 'b', 'a', 1, 2, 3, 2}"
      ],
      "metadata": {
        "id": "zIfsjjxi3Ubo"
      },
      "execution_count": null,
      "outputs": []
    },
    {
      "cell_type": "code",
      "source": [
        "var"
      ],
      "metadata": {
        "colab": {
          "base_uri": "https://localhost:8080/"
        },
        "id": "1p6-XfNo3Uee",
        "outputId": "ffb71a73-d71f-4d8b-a1bb-71a4cc74ad44"
      },
      "execution_count": null,
      "outputs": [
        {
          "output_type": "execute_result",
          "data": {
            "text/plain": [
              "{1, 2, 3, 'a', 'b'}"
            ]
          },
          "metadata": {},
          "execution_count": 41
        }
      ]
    },
    {
      "cell_type": "code",
      "source": [],
      "metadata": {
        "id": "LVT_I2DG3dx9"
      },
      "execution_count": null,
      "outputs": []
    },
    {
      "cell_type": "code",
      "source": [
        "# 6. Boolean Type:\tbool"
      ],
      "metadata": {
        "id": "2UYGaTd03d7i"
      },
      "execution_count": null,
      "outputs": []
    },
    {
      "cell_type": "code",
      "source": [
        "var = True"
      ],
      "metadata": {
        "id": "_l5Q9Fu02gTi"
      },
      "execution_count": null,
      "outputs": []
    },
    {
      "cell_type": "code",
      "source": [
        "var"
      ],
      "metadata": {
        "id": "rneRl_Up3T5O"
      },
      "execution_count": null,
      "outputs": []
    },
    {
      "cell_type": "code",
      "source": [
        "type(var)"
      ],
      "metadata": {
        "colab": {
          "base_uri": "https://localhost:8080/"
        },
        "id": "YSelPWp92ro9",
        "outputId": "3d2e0734-fba5-44d3-8430-5a26f9f99261"
      },
      "execution_count": null,
      "outputs": [
        {
          "output_type": "execute_result",
          "data": {
            "text/plain": [
              "bool"
            ]
          },
          "metadata": {},
          "execution_count": 19
        }
      ]
    },
    {
      "cell_type": "code",
      "source": [],
      "metadata": {
        "id": "1uInMf363uRe"
      },
      "execution_count": null,
      "outputs": []
    },
    {
      "cell_type": "code",
      "source": [
        "#7. Binary Types:\tbytes, bytearray"
      ],
      "metadata": {
        "id": "FaN1hZYh3uUu"
      },
      "execution_count": null,
      "outputs": []
    },
    {
      "cell_type": "code",
      "source": [
        "var = b'this is a byte str'"
      ],
      "metadata": {
        "id": "ifgwI_Pz2szQ"
      },
      "execution_count": null,
      "outputs": []
    },
    {
      "cell_type": "code",
      "source": [
        "var"
      ],
      "metadata": {
        "colab": {
          "base_uri": "https://localhost:8080/"
        },
        "id": "1-FGSlwF2xPk",
        "outputId": "47ceb59f-5c64-497c-e7fe-3237371b99ee"
      },
      "execution_count": null,
      "outputs": [
        {
          "output_type": "execute_result",
          "data": {
            "text/plain": [
              "b'this is a byte str'"
            ]
          },
          "metadata": {},
          "execution_count": 21
        }
      ]
    },
    {
      "cell_type": "code",
      "source": [
        "type(var)"
      ],
      "metadata": {
        "colab": {
          "base_uri": "https://localhost:8080/"
        },
        "id": "WSRAGrCP2xnp",
        "outputId": "abc2dae6-e406-4cda-ce8c-6c951fd5261f"
      },
      "execution_count": null,
      "outputs": [
        {
          "output_type": "execute_result",
          "data": {
            "text/plain": [
              "bytes"
            ]
          },
          "metadata": {},
          "execution_count": 22
        }
      ]
    },
    {
      "cell_type": "code",
      "source": [],
      "metadata": {
        "id": "Z4DMKm9X3_0-"
      },
      "execution_count": null,
      "outputs": []
    },
    {
      "cell_type": "code",
      "source": [
        "#8. None Type:\tNoneType"
      ],
      "metadata": {
        "id": "dsrTVHa_3_4F"
      },
      "execution_count": null,
      "outputs": []
    },
    {
      "cell_type": "code",
      "source": [
        "var = None"
      ],
      "metadata": {
        "id": "001UIAce2zDw"
      },
      "execution_count": null,
      "outputs": []
    },
    {
      "cell_type": "code",
      "source": [
        "var"
      ],
      "metadata": {
        "id": "tZgtTAkT22d4"
      },
      "execution_count": null,
      "outputs": []
    },
    {
      "cell_type": "code",
      "source": [
        "type(var)"
      ],
      "metadata": {
        "colab": {
          "base_uri": "https://localhost:8080/"
        },
        "id": "JM91L3ZR24BZ",
        "outputId": "c09754c7-8549-4da9-e7f6-7556b688bf7b"
      },
      "execution_count": null,
      "outputs": [
        {
          "output_type": "execute_result",
          "data": {
            "text/plain": [
              "NoneType"
            ]
          },
          "metadata": {},
          "execution_count": 49
        }
      ]
    },
    {
      "cell_type": "code",
      "source": [],
      "metadata": {
        "id": "jcTp6XzG25Fh"
      },
      "execution_count": null,
      "outputs": []
    },
    {
      "cell_type": "markdown",
      "source": [
        "## Python Operators\n",
        "\n",
        "---\n",
        "\n",
        "```\n",
        "Operator\tName\t          Example\n",
        "+\t       Addition\t       x + y\n",
        "-\t       Subtraction\t    x - y\n",
        "*\t       Multiplication\t x * y\n",
        "/\t       Division\t       x / y\n",
        "%\t       Modulus\t        x % y\n",
        "**\t     Exponentiation\t  x ** y\n",
        "//\t     Floor division\t  x // y\n",
        "```\n",
        "\n",
        "---\n",
        "\n",
        "\n"
      ],
      "metadata": {
        "id": "yRbAo7wt4E-o"
      }
    },
    {
      "cell_type": "code",
      "source": [
        "x = 1\n",
        "y = 2\n",
        "\n",
        "result = x + y\n",
        "result"
      ],
      "metadata": {
        "colab": {
          "base_uri": "https://localhost:8080/"
        },
        "id": "UkUZgWkF4gNA",
        "outputId": "a9c7dd12-c3ec-41a2-b41c-c748663c3196"
      },
      "execution_count": null,
      "outputs": [
        {
          "output_type": "execute_result",
          "data": {
            "text/plain": [
              "3"
            ]
          },
          "metadata": {},
          "execution_count": 50
        }
      ]
    },
    {
      "cell_type": "code",
      "source": [
        "x = 5\n",
        "y = 3\n",
        "\n",
        "result = x % y\n",
        "result"
      ],
      "metadata": {
        "colab": {
          "base_uri": "https://localhost:8080/"
        },
        "id": "-CmXbNSn5OpY",
        "outputId": "86ce5cf5-c7dc-4a28-9670-c4ee799664d6"
      },
      "execution_count": null,
      "outputs": [
        {
          "output_type": "execute_result",
          "data": {
            "text/plain": [
              "2"
            ]
          },
          "metadata": {},
          "execution_count": 52
        }
      ]
    },
    {
      "cell_type": "code",
      "source": [
        "x = 2\n",
        "y = 3\n",
        "\n",
        "result = x ** y\n",
        "result"
      ],
      "metadata": {
        "colab": {
          "base_uri": "https://localhost:8080/"
        },
        "id": "glw1tSPO5VNK",
        "outputId": "49e85cc6-8fa3-43cd-8a15-b0610a93d61e"
      },
      "execution_count": null,
      "outputs": [
        {
          "output_type": "execute_result",
          "data": {
            "text/plain": [
              "8"
            ]
          },
          "metadata": {},
          "execution_count": 53
        }
      ]
    },
    {
      "cell_type": "code",
      "source": [
        "x = 4\n",
        "y = 3\n",
        "\n",
        "result = x / y\n",
        "result"
      ],
      "metadata": {
        "colab": {
          "base_uri": "https://localhost:8080/"
        },
        "id": "LKyJX-Aa5i2X",
        "outputId": "66b5afd6-e98e-4e5e-f3f8-71e8103fe179"
      },
      "execution_count": null,
      "outputs": [
        {
          "output_type": "execute_result",
          "data": {
            "text/plain": [
              "1.3333333333333333"
            ]
          },
          "metadata": {},
          "execution_count": 55
        }
      ]
    },
    {
      "cell_type": "code",
      "source": [
        "x = 4\n",
        "y = 3\n",
        "\n",
        "result = x // y\n",
        "result"
      ],
      "metadata": {
        "colab": {
          "base_uri": "https://localhost:8080/"
        },
        "id": "cdM4RhEJ5a8C",
        "outputId": "a846483e-97ec-44f1-d900-91f1bda5b3ef"
      },
      "execution_count": null,
      "outputs": [
        {
          "output_type": "execute_result",
          "data": {
            "text/plain": [
              "1"
            ]
          },
          "metadata": {},
          "execution_count": 54
        }
      ]
    },
    {
      "cell_type": "code",
      "source": [],
      "metadata": {
        "id": "zRS0TYJD5hcR"
      },
      "execution_count": null,
      "outputs": []
    },
    {
      "cell_type": "markdown",
      "source": [
        "## Python Functions"
      ],
      "metadata": {
        "id": "8R5x4NvV52Ru"
      }
    },
    {
      "cell_type": "code",
      "source": [
        "def my_func(name = 'World'):\n",
        "  return \"Hello \" + name"
      ],
      "metadata": {
        "id": "U4cWh4Hg53ru"
      },
      "execution_count": null,
      "outputs": []
    },
    {
      "cell_type": "code",
      "source": [
        "result = my_func()\n",
        "result"
      ],
      "metadata": {
        "colab": {
          "base_uri": "https://localhost:8080/",
          "height": 35
        },
        "id": "QqoFb8tU6HR3",
        "outputId": "7572fdd0-5665-45d4-f595-ce28617c9c86"
      },
      "execution_count": null,
      "outputs": [
        {
          "output_type": "execute_result",
          "data": {
            "text/plain": [
              "'Hello World'"
            ],
            "application/vnd.google.colaboratory.intrinsic+json": {
              "type": "string"
            }
          },
          "metadata": {},
          "execution_count": 59
        }
      ]
    },
    {
      "cell_type": "code",
      "source": [
        "result = my_func(\"Test\")\n",
        "result"
      ],
      "metadata": {
        "colab": {
          "base_uri": "https://localhost:8080/",
          "height": 35
        },
        "id": "fYZpc5FZ6HU7",
        "outputId": "524f38c7-4984-4d30-8ea2-3954f2835759"
      },
      "execution_count": null,
      "outputs": [
        {
          "output_type": "execute_result",
          "data": {
            "text/plain": [
              "'Hello Test'"
            ],
            "application/vnd.google.colaboratory.intrinsic+json": {
              "type": "string"
            }
          },
          "metadata": {},
          "execution_count": 60
        }
      ]
    },
    {
      "cell_type": "markdown",
      "source": [
        "## Python Lambda Functions"
      ],
      "metadata": {
        "id": "NZeBqXmJ54rI"
      }
    },
    {
      "cell_type": "code",
      "source": [
        "x = lambda a : a + 10\n",
        "print(x(5))"
      ],
      "metadata": {
        "colab": {
          "base_uri": "https://localhost:8080/"
        },
        "id": "_-UgvI8t57qP",
        "outputId": "edac08a4-7650-488b-d7e8-a8483ade1968"
      },
      "execution_count": null,
      "outputs": [
        {
          "output_type": "stream",
          "name": "stdout",
          "text": [
            "15\n"
          ]
        }
      ]
    },
    {
      "cell_type": "code",
      "source": [
        "(lambda a : a + 10)(20)\n"
      ],
      "metadata": {
        "colab": {
          "base_uri": "https://localhost:8080/"
        },
        "id": "L3Arbk-M58v_",
        "outputId": "29eecdd7-426b-4218-d68d-48adbfa2b597"
      },
      "execution_count": null,
      "outputs": [
        {
          "output_type": "execute_result",
          "data": {
            "text/plain": [
              "30"
            ]
          },
          "metadata": {},
          "execution_count": 64
        }
      ]
    },
    {
      "cell_type": "code",
      "source": [],
      "metadata": {
        "id": "6L74o0BJH8kK"
      },
      "execution_count": null,
      "outputs": []
    },
    {
      "cell_type": "markdown",
      "source": [
        "## Error Handling"
      ],
      "metadata": {
        "id": "8T7v3oVoBCDn"
      }
    },
    {
      "cell_type": "code",
      "source": [
        "try:\n",
        "  print(\"Hello\")\n",
        "  #print(f\"Hello : {i}\")\n",
        "except Exception as e:\n",
        "  print(f\"Exception : {str(e)}\")"
      ],
      "metadata": {
        "id": "vpLbaOJOBFgk",
        "outputId": "e600ad8f-2c61-4974-dee7-e1fa9a7e6119",
        "colab": {
          "base_uri": "https://localhost:8080/"
        }
      },
      "execution_count": null,
      "outputs": [
        {
          "output_type": "stream",
          "name": "stdout",
          "text": [
            "Hello\n"
          ]
        }
      ]
    },
    {
      "cell_type": "code",
      "source": [],
      "metadata": {
        "id": "M6-j9R9zBNz1"
      },
      "execution_count": null,
      "outputs": []
    },
    {
      "cell_type": "markdown",
      "source": [
        "## File Handling"
      ],
      "metadata": {
        "id": "0FvUxiQlBq_h"
      }
    },
    {
      "cell_type": "markdown",
      "source": [
        "### Writing to file"
      ],
      "metadata": {
        "id": "3oUMOIrQCB9O"
      }
    },
    {
      "cell_type": "code",
      "source": [
        "content = \"This is a text\"\n",
        "\n",
        "with open(\"myfile.txt\", \"w\") as f:\n",
        "  f.write(content)"
      ],
      "metadata": {
        "id": "5btMm_jJBwb7"
      },
      "execution_count": null,
      "outputs": []
    },
    {
      "cell_type": "markdown",
      "source": [
        "### Reading from file"
      ],
      "metadata": {
        "id": "4UWQaJ2iCEOb"
      }
    },
    {
      "cell_type": "code",
      "source": [
        "result = \"\"\n",
        "with open(\"myfile.txt\", \"r\") as f:\n",
        "  result = f.read()\n",
        "\n",
        "print(f\"Contents of file : {result}\")"
      ],
      "metadata": {
        "id": "zessfCiQB5z_",
        "outputId": "d8857387-6b68-4a12-d41f-bf53f2603653",
        "colab": {
          "base_uri": "https://localhost:8080/"
        }
      },
      "execution_count": null,
      "outputs": [
        {
          "output_type": "stream",
          "name": "stdout",
          "text": [
            "Contents of file : This is a text\n"
          ]
        }
      ]
    },
    {
      "cell_type": "code",
      "source": [],
      "metadata": {
        "id": "I4QimcxmCPht"
      },
      "execution_count": null,
      "outputs": []
    }
  ]
}